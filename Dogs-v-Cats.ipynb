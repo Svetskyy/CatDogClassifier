{
 "cells": [
  {
   "cell_type": "code",
   "execution_count": 122,
   "id": "f1ad6ddd",
   "metadata": {},
   "outputs": [],
   "source": [
    "import tensorflow as tf\n",
    "from tensorflow import keras\n",
    "from keras import Sequential\n",
    "from keras.layers import Dense, Conv2D, MaxPooling2D, Flatten, BatchNormalization, Dropout\n",
    "from keras.preprocessing.image import ImageDataGenerator"
   ]
  },
  {
   "cell_type": "code",
   "execution_count": 123,
   "id": "39b80b94",
   "metadata": {},
   "outputs": [],
   "source": [
    "# Data augmentation\n",
    "data_augmentation = Sequential([\n",
    "    keras.layers.RandomFlip('horizontal_and_vertical'),\n",
    "    keras.layers.RandomRotation(0.2),\n",
    "    keras.layers.RandomZoom(0.2),\n",
    "    keras.layers.RandomContrast(0.2)\n",
    "])"
   ]
  },
  {
   "cell_type": "code",
   "execution_count": 124,
   "id": "9d69784d",
   "metadata": {},
   "outputs": [
    {
     "name": "stdout",
     "output_type": "stream",
     "text": [
      "Found 20000 files belonging to 2 classes.\n",
      "Found 5000 files belonging to 2 classes.\n"
     ]
    }
   ],
   "source": [
    "# Generators\n",
    "train_ds = keras.utils.image_dataset_from_directory(\n",
    "    directory='C:/Users/maule/Downloads/archive/train',\n",
    "    labels='inferred',\n",
    "    label_mode='int',\n",
    "    batch_size=32,\n",
    "    image_size=(256, 256)\n",
    ")\n",
    "\n",
    "validation_ds = keras.utils.image_dataset_from_directory(\n",
    "    directory='C:/Users/maule/Downloads/archive/test',\n",
    "    labels='inferred',\n",
    "    label_mode='int',\n",
    "    batch_size=32,\n",
    "    image_size=(256, 256)\n",
    ")"
   ]
  },
  {
   "cell_type": "code",
   "execution_count": 125,
   "id": "c78484ef",
   "metadata": {},
   "outputs": [],
   "source": [
    "# Normalize\n",
    "def process(image, label):\n",
    "    image = tf.cast(image / 255.0, tf.float32)\n",
    "    return image, label\n",
    "\n",
    "train_ds = train_ds.map(process).map(lambda x, y: (data_augmentation(x, training=True), y))\n",
    "validation_ds = validation_ds.map(process)"
   ]
  },
  {
   "cell_type": "code",
   "execution_count": 126,
   "id": "00f8c0ab",
   "metadata": {},
   "outputs": [],
   "source": [
    "# Create CNN Model\n",
    "model = Sequential([\n",
    "    Conv2D(32, kernel_size=(3, 3), padding='valid', activation='relu', input_shape=(256, 256, 3)),\n",
    "    BatchNormalization(),\n",
    "    MaxPooling2D(pool_size=(2, 2), strides=2, padding='valid'),\n",
    "    \n",
    "    Conv2D(64, kernel_size=(3, 3), padding='valid', activation='relu'),\n",
    "    BatchNormalization(),\n",
    "    MaxPooling2D(pool_size=(2, 2), strides=2, padding='valid'),\n",
    "    \n",
    "    Conv2D(128, kernel_size=(3, 3), padding='valid', activation='relu'),\n",
    "    BatchNormalization(),\n",
    "    MaxPooling2D(pool_size=(2, 2), strides=2, padding='valid'),\n",
    "    \n",
    "    Flatten(),\n",
    "    Dense(128, activation='relu'),\n",
    "    Dropout(0.3),\n",
    "    Dense(64, activation='relu'),\n",
    "    Dropout(0.3),\n",
    "    Dense(1, activation='sigmoid')\n",
    "])"
   ]
  },
  {
   "cell_type": "code",
   "execution_count": 127,
   "id": "c437508b",
   "metadata": {},
   "outputs": [
    {
     "name": "stdout",
     "output_type": "stream",
     "text": [
      "Model: \"sequential_4\"\n",
      "_________________________________________________________________\n",
      " Layer (type)                Output Shape              Param #   \n",
      "=================================================================\n",
      " conv2d_9 (Conv2D)           (None, 254, 254, 32)      896       \n",
      "                                                                 \n",
      " batch_normalization_9 (Bat  (None, 254, 254, 32)      128       \n",
      " chNormalization)                                                \n",
      "                                                                 \n",
      " max_pooling2d_9 (MaxPoolin  (None, 127, 127, 32)      0         \n",
      " g2D)                                                            \n",
      "                                                                 \n",
      " conv2d_10 (Conv2D)          (None, 125, 125, 64)      18496     \n",
      "                                                                 \n",
      " batch_normalization_10 (Ba  (None, 125, 125, 64)      256       \n",
      " tchNormalization)                                               \n",
      "                                                                 \n",
      " max_pooling2d_10 (MaxPooli  (None, 62, 62, 64)        0         \n",
      " ng2D)                                                           \n",
      "                                                                 \n",
      " conv2d_11 (Conv2D)          (None, 60, 60, 128)       73856     \n",
      "                                                                 \n",
      " batch_normalization_11 (Ba  (None, 60, 60, 128)       512       \n",
      " tchNormalization)                                               \n",
      "                                                                 \n",
      " max_pooling2d_11 (MaxPooli  (None, 30, 30, 128)       0         \n",
      " ng2D)                                                           \n",
      "                                                                 \n",
      " flatten_3 (Flatten)         (None, 115200)            0         \n",
      "                                                                 \n",
      " dense_9 (Dense)             (None, 128)               14745728  \n",
      "                                                                 \n",
      " dropout_6 (Dropout)         (None, 128)               0         \n",
      "                                                                 \n",
      " dense_10 (Dense)            (None, 64)                8256      \n",
      "                                                                 \n",
      " dropout_7 (Dropout)         (None, 64)                0         \n",
      "                                                                 \n",
      " dense_11 (Dense)            (None, 1)                 65        \n",
      "                                                                 \n",
      "=================================================================\n",
      "Total params: 14848193 (56.64 MB)\n",
      "Trainable params: 14847745 (56.64 MB)\n",
      "Non-trainable params: 448 (1.75 KB)\n",
      "_________________________________________________________________\n"
     ]
    }
   ],
   "source": [
    "model.summary()"
   ]
  },
  {
   "cell_type": "code",
   "execution_count": 128,
   "id": "0cc32ef2",
   "metadata": {},
   "outputs": [],
   "source": [
    "# Adjust the learning rate\n",
    "optimizer = keras.optimizers.Adam(learning_rate=0.0001)\n",
    "model.compile(optimizer=optimizer, loss='binary_crossentropy', metrics=['accuracy'])"
   ]
  },
  {
   "cell_type": "code",
   "execution_count": 130,
   "id": "64340396",
   "metadata": {},
   "outputs": [
    {
     "name": "stdout",
     "output_type": "stream",
     "text": [
      "Epoch 1/10\n",
      "625/625 [==============================] - 921s 1s/step - loss: 0.7668 - accuracy: 0.5699 - val_loss: 0.6400 - val_accuracy: 0.5948\n",
      "Epoch 2/10\n",
      "625/625 [==============================] - 917s 1s/step - loss: 0.6689 - accuracy: 0.5560 - val_loss: 0.6202 - val_accuracy: 0.6272\n",
      "Epoch 3/10\n",
      "625/625 [==============================] - 910s 1s/step - loss: 0.6815 - accuracy: 0.5497 - val_loss: 0.6434 - val_accuracy: 0.6048\n",
      "Epoch 4/10\n",
      "625/625 [==============================] - 911s 1s/step - loss: 0.6673 - accuracy: 0.5751 - val_loss: 0.6411 - val_accuracy: 0.6046\n",
      "Epoch 5/10\n",
      "625/625 [==============================] - 912s 1s/step - loss: 0.6626 - accuracy: 0.5755 - val_loss: 0.6341 - val_accuracy: 0.6646\n",
      "Epoch 6/10\n",
      "625/625 [==============================] - 925s 1s/step - loss: 0.6541 - accuracy: 0.5860 - val_loss: 0.6038 - val_accuracy: 0.6642\n",
      "Epoch 7/10\n",
      "625/625 [==============================] - 918s 1s/step - loss: 0.6534 - accuracy: 0.5874 - val_loss: 0.6228 - val_accuracy: 0.6490\n",
      "Epoch 8/10\n",
      "625/625 [==============================] - 917s 1s/step - loss: 0.6408 - accuracy: 0.6084 - val_loss: 0.5607 - val_accuracy: 0.6972\n",
      "Epoch 9/10\n",
      "625/625 [==============================] - 918s 1s/step - loss: 0.6291 - accuracy: 0.6115 - val_loss: 0.5899 - val_accuracy: 0.6788\n",
      "Epoch 10/10\n",
      "625/625 [==============================] - 934s 1s/step - loss: 0.6174 - accuracy: 0.6262 - val_loss: 0.5686 - val_accuracy: 0.7058\n"
     ]
    }
   ],
   "source": [
    "history = model.fit(train_ds, epochs=10, validation_data=validation_ds)"
   ]
  },
  {
   "cell_type": "code",
   "execution_count": 5,
   "id": "23281dc4",
   "metadata": {},
   "outputs": [
    {
     "ename": "NameError",
     "evalue": "name 'history' is not defined",
     "output_type": "error",
     "traceback": [
      "\u001b[1;31m---------------------------------------------------------------------------\u001b[0m",
      "\u001b[1;31mNameError\u001b[0m                                 Traceback (most recent call last)",
      "Cell \u001b[1;32mIn[5], line 3\u001b[0m\n\u001b[0;32m      1\u001b[0m \u001b[38;5;28;01mimport\u001b[39;00m \u001b[38;5;21;01mmatplotlib\u001b[39;00m\u001b[38;5;21;01m.\u001b[39;00m\u001b[38;5;21;01mpyplot\u001b[39;00m \u001b[38;5;28;01mas\u001b[39;00m \u001b[38;5;21;01mplt\u001b[39;00m\n\u001b[1;32m----> 3\u001b[0m plt\u001b[38;5;241m.\u001b[39mplot(history\u001b[38;5;241m.\u001b[39mhistory[\u001b[38;5;124m'\u001b[39m\u001b[38;5;124maccuracy\u001b[39m\u001b[38;5;124m'\u001b[39m], color\u001b[38;5;241m=\u001b[39m\u001b[38;5;124m'\u001b[39m\u001b[38;5;124mred\u001b[39m\u001b[38;5;124m'\u001b[39m, label\u001b[38;5;241m=\u001b[39m\u001b[38;5;124m'\u001b[39m\u001b[38;5;124mTrain Accuracy\u001b[39m\u001b[38;5;124m'\u001b[39m)\n\u001b[0;32m      4\u001b[0m plt\u001b[38;5;241m.\u001b[39mplot(history\u001b[38;5;241m.\u001b[39mhistory[\u001b[38;5;124m'\u001b[39m\u001b[38;5;124mval_accuracy\u001b[39m\u001b[38;5;124m'\u001b[39m], color\u001b[38;5;241m=\u001b[39m\u001b[38;5;124m'\u001b[39m\u001b[38;5;124mblue\u001b[39m\u001b[38;5;124m'\u001b[39m, label\u001b[38;5;241m=\u001b[39m\u001b[38;5;124m'\u001b[39m\u001b[38;5;124mValidation Accuracy\u001b[39m\u001b[38;5;124m'\u001b[39m)\n\u001b[0;32m      5\u001b[0m plt\u001b[38;5;241m.\u001b[39mxlabel(\u001b[38;5;124m'\u001b[39m\u001b[38;5;124mEpochs\u001b[39m\u001b[38;5;124m'\u001b[39m)\n",
      "\u001b[1;31mNameError\u001b[0m: name 'history' is not defined"
     ]
    }
   ],
   "source": [
    "import matplotlib.pyplot as plt\n",
    "\n",
    "plt.plot(history.history['accuracy'], color='red', label='Train Accuracy')\n",
    "plt.plot(history.history['val_accuracy'], color='blue', label='Validation Accuracy')\n",
    "plt.xlabel('Epochs')\n",
    "plt.ylabel('Accuracy')\n",
    "plt.legend()\n",
    "plt.show()"
   ]
  },
  {
   "cell_type": "code",
   "execution_count": null,
   "id": "d75f5fa1",
   "metadata": {},
   "outputs": [],
   "source": [
    "plt.plot(history.history['loss'], color='red', label='Train Loss')\n",
    "plt.plot(history.history['val_loss'], color='blue', label='Validation Loss')\n",
    "plt.xlabel('Epochs')\n",
    "plt.ylabel('Loss')\n",
    "plt.legend()\n",
    "plt.show()"
   ]
  },
  {
   "cell_type": "code",
   "execution_count": null,
   "id": "250ce08a",
   "metadata": {},
   "outputs": [],
   "source": [
    "#Ways to reduce overfitting\n",
    "\n",
    "#Add more data\n",
    "#Data augmentation\n",
    "#L1/L2 Regularizer\n",
    "#Dropout\n",
    "#Batch Norm\n",
    "#Reduce Complexity"
   ]
  },
  {
   "cell_type": "code",
   "execution_count": null,
   "id": "26eb73bb",
   "metadata": {},
   "outputs": [],
   "source": [
    "pip install opencv-python"
   ]
  },
  {
   "cell_type": "code",
   "execution_count": null,
   "id": "da761083",
   "metadata": {},
   "outputs": [],
   "source": [
    "import cv2"
   ]
  },
  {
   "cell_type": "code",
   "execution_count": 3,
   "id": "b1e91f68",
   "metadata": {},
   "outputs": [],
   "source": [
    "# Load and preprocess the test image\n",
    "test_img = cv2.imread('C:/Users/maule/Downloads/dog.jpg')\n",
    "test_img = cv2.cvtColor(test_img, cv2.COLOR_BGR2RGB)  # Convert BGR to RGB\n",
    "test_img = cv2.resize(test_img, (256, 256))\n",
    "test_img = test_img / 255.0  # Normalize\n",
    "test_input = test_img.reshape((1, 256, 256, 3))"
   ]
  },
  {
   "cell_type": "code",
   "execution_count": 4,
   "id": "5e77a2af",
   "metadata": {},
   "outputs": [
    {
     "ename": "NameError",
     "evalue": "name 'plt' is not defined",
     "output_type": "error",
     "traceback": [
      "\u001b[1;31m---------------------------------------------------------------------------\u001b[0m",
      "\u001b[1;31mNameError\u001b[0m                                 Traceback (most recent call last)",
      "Cell \u001b[1;32mIn[4], line 1\u001b[0m\n\u001b[1;32m----> 1\u001b[0m plt\u001b[38;5;241m.\u001b[39mimshow(test_img)\n",
      "\u001b[1;31mNameError\u001b[0m: name 'plt' is not defined"
     ]
    }
   ],
   "source": [
    "plt.imshow(test_img)"
   ]
  },
  {
   "cell_type": "code",
   "execution_count": null,
   "id": "86fea296",
   "metadata": {},
   "outputs": [],
   "source": [
    "# Make prediction\n",
    "prediction = model.predict(test_input)\n",
    "print(\"Prediction: \", \"Dog\" if prediction[0][0] > 0.5 else \"Cat\")"
   ]
  },
  {
   "cell_type": "code",
   "execution_count": null,
   "id": "fc510b6e",
   "metadata": {},
   "outputs": [],
   "source": []
  }
 ],
 "metadata": {
  "kernelspec": {
   "display_name": "Python 3 (ipykernel)",
   "language": "python",
   "name": "python3"
  },
  "language_info": {
   "codemirror_mode": {
    "name": "ipython",
    "version": 3
   },
   "file_extension": ".py",
   "mimetype": "text/x-python",
   "name": "python",
   "nbconvert_exporter": "python",
   "pygments_lexer": "ipython3",
   "version": "3.11.5"
  }
 },
 "nbformat": 4,
 "nbformat_minor": 5
}
